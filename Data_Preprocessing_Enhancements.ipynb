{
 "cells": [
  {
   "cell_type": "code",
   "execution_count": 1,
   "id": "a1cb2a03-522d-4006-92e0-c5602095de2a",
   "metadata": {},
   "outputs": [
    {
     "name": "stdout",
     "output_type": "stream",
     "text": [
      "Image paths loaded: (1460, 2)\n"
     ]
    },
    {
     "name": "stderr",
     "output_type": "stream",
     "text": [
      "100%|██████████| 1460/1460 [00:05<00:00, 273.41it/s]\n"
     ]
    },
    {
     "name": "stdout",
     "output_type": "stream",
     "text": [
      "Images preprocessed. Shape: (1460, 128, 128, 3)\n",
      "Training samples: 1168\n",
      "Validation samples: 292\n",
      "All data is now saved to .npy files for future phases of the project.\n"
     ]
    }
   ],
   "source": [
    "# Data Preprocessing (PHASE 2)\n",
    "\n",
    "import os\n",
    "import cv2\n",
    "import numpy as np\n",
    "import pandas as pd\n",
    "from tqdm import tqdm\n",
    "from sklearn.model_selection import train_test_split\n",
    "import random\n",
    "\n",
    "# Configuration\n",
    "IMG_SIZE = 128\n",
    "AUGMENT = True\n",
    "original_path = r\"C:\\Users\\imran\\OneDrive\\Robotics Projects\\Image Forgery\\Image Data\\TRAINING_CG-1050\\TRAINING\\ORIGINAL\"\n",
    "tampered_path = r\"C:\\Users\\imran\\OneDrive\\Robotics Projects\\Image Forgery\\Image Data\\TRAINING_CG-1050\\TRAINING\\TAMPERED\"\n",
    "\n",
    "# Loading image paths & labels\n",
    "def load_image_paths(original_dir, tampered_dir):\n",
    "    data = []\n",
    "\n",
    "    original_images = [os.path.join(original_dir, f) for f in os.listdir(original_dir) if f.endswith('.jpg')]\n",
    "    tampered_images = [os.path.join(tampered_dir, f) for f in os.listdir(tampered_dir) if f.endswith('.jpg')]\n",
    "\n",
    "    for path in original_images:\n",
    "        data.append((path, 0))\n",
    "    for path in tampered_images:\n",
    "        data.append((path, 1))\n",
    "    \n",
    "    return pd.DataFrame(data, columns=[\"image_path\", \"label\"])\n",
    "\n",
    "# Augmentation function\n",
    "# These are random transformations to tampered images to improve generalization & help learn more robust features\n",
    "def augment_image(img):\n",
    "    # Brightness adjustment\n",
    "    if random.random() > 0.5:\n",
    "        hsv = cv2.cvtColor(img, cv2.COLOR_RGB2HSV)\n",
    "        hsv[:, :, 2] = np.clip(hsv[:, :, 2] * (0.5 + np.random.rand() * 1.5), 0, 255)\n",
    "        img = cv2.cvtColor(hsv.astype(np.uint8), cv2.COLOR_HSV2RGB)\n",
    "\n",
    "    # Horizontal Flip\n",
    "    if random.random() > 0.5:\n",
    "        img = cv2.flip(img, 1)\n",
    "\n",
    "    # Small angle rotation\n",
    "    if random.random() > 0.5:\n",
    "        angle = np.random.uniform(-15, 15)\n",
    "        M = cv2.getRotationMatrix2D((IMG_SIZE / 2, IMG_SIZE / 2), angle, 1)\n",
    "        img = cv2.warpAffine(img, M, (IMG_SIZE, IMG_SIZE))\n",
    "\n",
    "    return img\n",
    "\n",
    "# Preprocessing function\n",
    "def preprocess_images(df, img_size=128, augment=False):\n",
    "    images = []\n",
    "    labels = []\n",
    "\n",
    "    for row in tqdm(df.itertuples(), total=len(df)):\n",
    "        img = cv2.imread(row.image_path)\n",
    "        img = cv2.cvtColor(img, cv2.COLOR_BGR2RGB)\n",
    "        img = cv2.resize(img, (img_size, img_size))\n",
    "\n",
    "        if augment and row.label == 1:\n",
    "            img = augment_image(img)\n",
    "\n",
    "        img = img / 255.0\n",
    "        images.append(img)\n",
    "        labels.append(row.label)\n",
    "\n",
    "    return np.array(images), np.array(labels)\n",
    "\n",
    "# Loading the Dataset\n",
    "train_df = load_image_paths(original_path, tampered_path)\n",
    "print(\"Image paths loaded:\", train_df.shape)\n",
    "\n",
    "X, y = preprocess_images(train_df, IMG_SIZE, augment=AUGMENT)\n",
    "print(\"Images preprocessed. Shape:\", X.shape)\n",
    "\n",
    "# Splitting the data into Training & Validation Sets\n",
    "X_train, X_val, y_train, y_val = train_test_split(X, y, test_size=0.2, stratify=y, random_state=42)\n",
    "print(f\"Training samples: {X_train.shape[0]}\")\n",
    "print(f\"Validation samples: {X_val.shape[0]}\")\n",
    "\n",
    "# Saving the data in .npy format\n",
    "np.save(\"X_train.npy\", X_train)\n",
    "np.save(\"y_train.npy\", y_train)\n",
    "np.save(\"X_val.npy\", X_val)\n",
    "np.save(\"y_val.npy\", y_val)\n",
    "print(\"All data is now saved to .npy files for future phases of the project.\")\n"
   ]
  },
  {
   "cell_type": "code",
   "execution_count": null,
   "id": "c4bd591b-9eb6-4491-823c-6c967f070612",
   "metadata": {},
   "outputs": [],
   "source": []
  }
 ],
 "metadata": {
  "kernelspec": {
   "display_name": "Python 3 (ipykernel)",
   "language": "python",
   "name": "python3"
  },
  "language_info": {
   "codemirror_mode": {
    "name": "ipython",
    "version": 3
   },
   "file_extension": ".py",
   "mimetype": "text/x-python",
   "name": "python",
   "nbconvert_exporter": "python",
   "pygments_lexer": "ipython3",
   "version": "3.12.7"
  }
 },
 "nbformat": 4,
 "nbformat_minor": 5
}
